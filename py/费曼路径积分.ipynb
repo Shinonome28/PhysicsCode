{
 "cells": [
  {
   "cell_type": "markdown",
   "metadata": {},
   "source": [
    "模拟光的反射的费曼路径积分。相当不准确，只能看一个趋势。\n",
    "正确的方法是做一个积分，但要带一个复杂的积分元，不然积分不收敛。\n",
    "要求得这个积分元，需要一种名为重整化的方法。"
   ]
  },
  {
   "cell_type": "code",
   "execution_count": null,
   "metadata": {},
   "outputs": [],
   "source": [
    "import matplotlib.pyplot as plt\n",
    "from cmath import *\n",
    "\n",
    "X = -5.0\n",
    "Y = 3.0\n",
    "K = 1000\n",
    "\n",
    "\n",
    "def phase_factor(x: complex):\n",
    "    return exp(\n",
    "        complex(0, K * (sqrt((x - X) ** 2 + Y**2) + sqrt((x + X) ** 2 + Y**2)))\n",
    "    )\n",
    "\n",
    "\n",
    "def main():\n",
    "    N = 1000\n",
    "    n = (1.0 - X) / N\n",
    "    r = 0 + 0j\n",
    "    p = []\n",
    "    for i in range(N):\n",
    "        r += phase_factor(X + n * i)\n",
    "        p.append((X + n * i, abs(r)))\n",
    "\n",
    "    x_points = [i[0] for i in p]\n",
    "    y_points = [i[1] for i in p]\n",
    "    plt.plot(x_points, y_points)\n",
    "    plt.show()"
   ]
  },
  {
   "cell_type": "code",
   "execution_count": null,
   "metadata": {},
   "outputs": [],
   "source": [
    "main()"
   ]
  }
 ],
 "metadata": {
  "kernelspec": {
   "display_name": ".venv",
   "language": "python",
   "name": "python3"
  },
  "language_info": {
   "codemirror_mode": {
    "name": "ipython",
    "version": 3
   },
   "file_extension": ".py",
   "mimetype": "text/x-python",
   "name": "python",
   "nbconvert_exporter": "python",
   "pygments_lexer": "ipython3",
   "version": "3.12.0"
  }
 },
 "nbformat": 4,
 "nbformat_minor": 2
}
